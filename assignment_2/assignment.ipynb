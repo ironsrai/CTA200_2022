{
 "cells": [
  {
   "cell_type": "markdown",
   "id": "9d580c7a",
   "metadata": {},
   "source": [
    "## Part 1"
   ]
  },
  {
   "cell_type": "code",
   "execution_count": 26,
   "id": "a3c2dd52",
   "metadata": {},
   "outputs": [],
   "source": [
    "#defining a function f(x)\n",
    "def f(x):\n",
    "    '''defining a function for x as f(x)'''\n",
    "    f_x = x**3 - x**2 - 1\n",
    "    return f_x\n",
    "\n",
    "#defining the derivative of f(x)\n",
    "def df(x):\n",
    "    '''derivative of the function f(x)'''\n",
    "    f_prime = 3*x**2 - 2*x\n",
    "    return f_prime"
   ]
  },
  {
   "cell_type": "markdown",
   "id": "24e4b750",
   "metadata": {},
   "source": [
    "## Part 2"
   ]
  },
  {
   "cell_type": "code",
   "execution_count": 34,
   "id": "621e43f2",
   "metadata": {},
   "outputs": [],
   "source": [
    "import numpy as np #importing necessary library\n",
    "\n",
    "def newton(f, df, x_0, epsilon = 1e-6, max_iter = 30):\n",
    "    '''Newton's Method for finding roots of a function'''\n",
    "    #create an array of zeros to be filled with the updated values of the roots as the\n",
    "    #loop converges\n",
    "    x = np.zeros(max_iter)\n",
    "    #setting initial guess of the root as the first index\n",
    "    x[0] = x_0\n",
    "    #for loop to begin the numerical method\n",
    "    for i in range(max_iter):\n",
    "        x_1 = x[i] - (f(x[i])/df(x[i])) #implementing formula\n",
    "        x[i+1] = x_1 #updating our guess array\n",
    "        \n",
    "        #check to see if our solution is converging to zero with epsilon\n",
    "        if np.absolute(f(x_1)) < epsilon:\n",
    "            print(\"Found root in\", i, \"iterations.\")\n",
    "            return x_1, i\n",
    "    return \"Iteration failed.\""
   ]
  },
  {
   "cell_type": "markdown",
   "id": "4a76d229",
   "metadata": {},
   "source": [
    "## Part 3"
   ]
  },
  {
   "cell_type": "code",
   "execution_count": 47,
   "id": "e25b87b7",
   "metadata": {},
   "outputs": [
    {
     "name": "stdout",
     "output_type": "stream",
     "text": [
      "Found root in 4 iterations.\n",
      "Found root in 10 iterations.\n",
      "The solution/root is 1.4655713749070918 for an initial guess of 1.\n",
      "The solution/root is 1.4655712318769198 for an initial guess of 0.5.\n"
     ]
    }
   ],
   "source": [
    "#calling and printing the solution on the functions defined in Part 1\n",
    "sol_1 = newton(f, df, 1, epsilon = 1e-6, max_iter = 30)\n",
    "sol_2 = newton(f, df, 0.5, epsilon = 1e-6, max_iter = 30)\n",
    "print(\"The solution/root is\", sol_1[0], \"for an initial guess of 1.\")\n",
    "print(\"The solution/root is\", sol_2[0], \"for an initial guess of 0.5.\")"
   ]
  },
  {
   "cell_type": "markdown",
   "id": "cc797d0b",
   "metadata": {},
   "source": [
    "When decreasing epsilon to 1e-8, it takes 1-2 more iterations to find the root compared to 1e-6."
   ]
  }
 ],
 "metadata": {
  "kernelspec": {
   "display_name": "Python 3 (ipykernel)",
   "language": "python",
   "name": "python3"
  },
  "language_info": {
   "codemirror_mode": {
    "name": "ipython",
    "version": 3
   },
   "file_extension": ".py",
   "mimetype": "text/x-python",
   "name": "python",
   "nbconvert_exporter": "python",
   "pygments_lexer": "ipython3",
   "version": "3.10.2"
  }
 },
 "nbformat": 4,
 "nbformat_minor": 5
}
